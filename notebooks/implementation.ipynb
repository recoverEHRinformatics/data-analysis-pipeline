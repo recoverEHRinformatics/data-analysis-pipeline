{
 "cells": [
  {
   "cell_type": "code",
   "execution_count": null,
   "metadata": {},
   "outputs": [],
   "source": [
    "# if any of the modules above are not already installed please use the command below in your notebook to install the module\n",
    "# !pip install NameOfYourModule (e.g. !pip install pandas)\n",
    "\n",
    "import pandas as pd\n",
    "import numpy as np\n",
    "import datetime\n",
    "\n",
    "from sqlalchemy import create_engine\n",
    "from sqlalchemy.orm import Session\n",
    "from sqlalchemy import text as sqlalchemy_text\n",
    "\n",
    "import pyarrow.parquet as pq\n",
    "import pyarrow as pa\n",
    "\n",
    "import os\n",
    "import requests"
   ]
  },
  {
   "cell_type": "code",
   "execution_count": null,
   "metadata": {},
   "outputs": [],
   "source": [
    "# please make sure the recover_analysis.py is downloaded in your working directory (i.e. main_path) \n",
    "# you may download the latest version here: https://raw.githubusercontent.com/recoverEHRinformatics/data-analysis-pipeline/main/recover_analysis.py\n",
    "url = 'https://raw.githubusercontent.com/recoverEHRinformatics/data-analysis-pipeline/main/recover_analysis.py'\n",
    "r = requests.get(url, allow_redirects=True)\n",
    "\n",
    "open(f\"{main_path}/recover_analysis.py\", 'wb').write(r.content)\n",
    "\n",
    "import recover_analysis as rp"
   ]
  },
  {
   "cell_type": "code",
   "execution_count": null,
   "metadata": {},
   "outputs": [],
   "source": [
    "# a list of site names used in the analysis\n",
    "# the site names should exactly match the schema names live in the database\n",
    "site_names = ['site1', 'site2', 'site3', 'site4', 'site5']\n",
    "\n",
    "# Study period start and end date (YYYY-MM-DD)\n",
    "study_start_date = '2020-03-01'\n",
    "study_end_date = '2022-07-30'\n"
   ]
  },
  {
   "cell_type": "code",
   "execution_count": null,
   "metadata": {},
   "outputs": [],
   "source": [
    "# main folder of the query\n",
    "main_path = \"\"\n",
    "\n",
    "# where the raw data will be saved\n",
    "source_data_path = f\"{main_path}/source data\"\n",
    "# create an empty folder if it does not exist\n",
    "if os.path.exists(source_data_path) != True:\n",
    "    os.makedirs(source_data_path)\n",
    "\n",
    "# where the results will be saved\n",
    "result_path = f\"{main_path}/result\"\n",
    "# create an empty folder if it does not exist\n",
    "if os.path.exists(result_path) != True:\n",
    "    os.makedirs(result_path)\n",
    "\n",
    "# where all external data needed for analysis is already saved (e.g. PASC definition spreadsheet)\n",
    "external_source_path = \"\"\n"
   ]
  },
  {
   "attachments": {},
   "cell_type": "markdown",
   "metadata": {},
   "source": [
    "# Raw data extraction"
   ]
  },
  {
   "cell_type": "code",
   "execution_count": null,
   "metadata": {},
   "outputs": [],
   "source": [
    "# replace the empty strings below with the correct server/database information\n",
    "server = \"\"\n",
    "database = \"\"\n",
    "username = \"\"\n",
    "password = \"\"\n",
    "port = ''\n",
    "\n",
    "database_string = f\"postgres+psycopg2://{username}:{password}@{server}:{port}/{database}\"\n",
    "\n",
    "database_engine = create_engine(database_string)"
   ]
  },
  {
   "cell_type": "code",
   "execution_count": null,
   "metadata": {},
   "outputs": [],
   "source": [
    "query_demographic = f\"\"\"\n",
    "SELECT\n",
    "CONCAT({\"'SiteSchema'\"}, '_', patid) AS syn_pt_id\n",
    ", t1.patid, t1.birth_date, t1.race, t1.hispanic, t1.sex\n",
    "FROM SiteSchema.demographic t1\n",
    "WHERE t1.patid in (\n",
    "    SELECT patid FROM qtwg.SiteSchema_index_all \n",
    "    WHERE index_date >= '{study_start_date}' AND index_date <= '{study_end_date}'\n",
    ");\n",
    "\"\"\"\n",
    "\n",
    "demographic = rp.extract_raw_data(\n",
    "    query=query_demographic, \n",
    "    site_names=site_names, \n",
    "    source_data_path=source_data_path, \n",
    "    data_name='demographic',\n",
    "    database_engine=database_engine)\n",
    "\n",
    "\n",
    "del query_demographic\n"
   ]
  },
  {
   "cell_type": "code",
   "execution_count": null,
   "metadata": {},
   "outputs": [],
   "source": [
    "# please note we are limiting the records in this table up to the end of the study period\n",
    "query_diagnosis = f\"\"\"\n",
    "SELECT\n",
    "CONCAT({\"'SiteSchema'\"}, '_', patid) AS syn_pt_id\n",
    ", t1.patid, t1.admit_date, t1.dx\n",
    "FROM SiteSchema.diagnosis t1\n",
    "WHERE t1.patid in (\n",
    "        SELECT patid FROM qtwg.SiteSchema_index_all \n",
    "        WHERE index_date >= '{study_start_date}' AND index_date <= '{study_end_date}'\n",
    "        )\n",
    "    AND t1.admit_date <= '{study_end_date}';\n",
    "\"\"\"\n",
    "\n",
    "diagnosis = rp.extract_raw_data(\n",
    "    query=query_diagnosis, \n",
    "    site_names=site_names, \n",
    "    source_data_path=source_data_path, \n",
    "    data_name='diagnosis',\n",
    "    database_engine=database_engine)\n",
    "\n",
    "\n",
    "del query_diagnosis\n"
   ]
  },
  {
   "cell_type": "code",
   "execution_count": null,
   "metadata": {},
   "outputs": [],
   "source": [
    "# please note we are limiting the records in this table up to the end of the study period\n",
    "query_index_all = f\"\"\"\n",
    "SELECT\n",
    "CONCAT({\"'SiteSchema'\"}, '_', patid) AS syn_pt_id\n",
    ", t1.patid, t1.index_date, t1.index_type, t1.index_result, t1.enc_type\n",
    "FROM qtwg.SiteSchema_index_all t1\n",
    "WHERE t1.index_date >= '{study_start_date}' AND t1.index_date <= '{study_end_date}';\n",
    "\"\"\"\n",
    "\n",
    "index_all = rp.extract_raw_data(\n",
    "    query=query_index_all, \n",
    "    site_names=site_names, \n",
    "    source_data_path=source_data_path, \n",
    "    data_name='index_all',\n",
    "    database_engine=database_engine)\n",
    "\n",
    "\n",
    "del query_index_all\n"
   ]
  },
  {
   "cell_type": "code",
   "execution_count": null,
   "metadata": {},
   "outputs": [],
   "source": [
    "# exclude any COVID-19 indication outside of the study period time interval\n",
    "index_all = index_all[\n",
    "    (index_all['index_date'] >= pd.to_datetime(study_start_date).date())\n",
    "    &\n",
    "    (index_all['index_date'] <= pd.to_datetime(study_end_date).date())\n",
    "    ]"
   ]
  },
  {
   "attachments": {},
   "cell_type": "markdown",
   "metadata": {},
   "source": [
    "# identify covid patients"
   ]
  },
  {
   "cell_type": "code",
   "execution_count": null,
   "metadata": {},
   "outputs": [],
   "source": [
    "# find patients with at least two outpatient covid dx\n",
    "covid_av_two = rp.get_two_av_dx_pts(\n",
    "    index_all=index_all,\n",
    "    patid_column='syn_pt_id'\n",
    ")\n",
    "\n",
    "# find patients with at least one inpatient covid dx\n",
    "covid_ip = rp.get_ip_dx_pts(\n",
    "    index_all=index_all,\n",
    "    patid_column='syn_pt_id'\n",
    ")\n",
    "\n",
    "# find patients with at least one covid lab\n",
    "covid_lab = rp.get_lab_pts(\n",
    "    index_all=index_all,\n",
    "    patid_column='syn_pt_id'\n",
    ")\n"
   ]
  },
  {
   "cell_type": "code",
   "execution_count": null,
   "metadata": {},
   "outputs": [],
   "source": [
    "# Filtering the dataframe to include only diagnoses and positive lab instances\n",
    "temp_index_all = index_all[\n",
    "    # patients who meet any of the COVID-19 definition described above\n",
    "    (index_all.syn_pt_id.isin(covid_av_two + covid_lab + covid_ip))\n",
    "    # excluding index events the COVID-19 indication is paxlovid\n",
    "    & ~(index_all.index_type == 'paxlovid')\n",
    "    # excluding index events where the lab result is negative\n",
    "    & ~((index_all.index_type == 'lab') & (index_all.index_result == 'negative'))\n",
    "]\n",
    "\n",
    "# using get_index_event to find the first instance of COVID-19 indication for each patient\n",
    "index = rp.get_index_event(\n",
    "    df=temp_index_all,\n",
    "    index_date_column='index_date',\n",
    "    patid_column='syn_pt_id',\n",
    "    start_date=study_start_date,\n",
    "    end_date=study_end_date\n",
    ")\n",
    "\n",
    "del temp_index_all\n"
   ]
  },
  {
   "cell_type": "markdown",
   "metadata": {},
   "source": [
    "# identify pasc patients"
   ]
  },
  {
   "cell_type": "code",
   "execution_count": null,
   "metadata": {},
   "outputs": [],
   "source": [
    "PASC_definition = pd.read_excel(\"https://github.com/recoverEHRinformatics/data-analysis-pipeline/blob/main/external%20data%20sources/PASC_subphenotype.xlsx?raw=true\")\n",
    "\n",
    "# please reference the correct column names in your spreadsheet if using a different one\n",
    "PASC_definition.rename(columns={\n",
    "    'ICD-10-CM Code_clean': 'i10_code',\n",
    "    'pasc': 'ccsr_category',\n",
    "    'PASC Name Simple': 'pasc_name_simple'\n",
    "}, inplace=True\n",
    ")\n",
    "\n",
    "# a flag to filter any diagnosis that does not meet the stringent definition\n",
    "# you may comment this line out if the spreadsheet you are using already contains the diagnoses of interest\n",
    "PASC_definition = PASC_definition[PASC_definition['selected stringent'] == 1]\n"
   ]
  },
  {
   "cell_type": "code",
   "execution_count": null,
   "metadata": {},
   "outputs": [],
   "source": [
    "system_crosswalk = {\n",
    "  \"Abdominal pain and other digestive/abdomen signs and symptoms\": \"Digestive\" \n",
    ", \"Acute phlebitis; thrombophlebitis and thromboembolism\": \"Circulatory\" \n",
    ", \"Acute pulmonary embolism\": \"Circulatory\" \n",
    ", \"Anemia\": \"Blood\" \n",
    ", \"Circulatory signs and symptoms\": \"Circulatory\" \n",
    ", \"Diabetes mellitus with complication\": \"Endocrine\" \n",
    ", \"Fever\": \"General\" \n",
    ", \"Fluid and electrolyte disorders\": \"Endocrine\" \n",
    ", \"Headache; including migraine\": \"neurological\" \n",
    ", \"Malaise and fatigue\": \"neurological\" \n",
    ", \"Malnutrition\": \"Endocrine\" \n",
    ", \"Musculoskeletal pain, not low back pain\": \"Musculoskeletal\" \n",
    ", \"Nervous system signs and symptoms\": \"neurological\" \n",
    ", \"Neurocognitive disorders\": \"neurological\" \n",
    ", \"Nonspecific chest pain\": \"Circulatory\" \n",
    ", \"Other general signs and symptoms\": \"Endocrine\" \n",
    ", \"Other nervous system disorders (neither hereditary nor degenerative)\": \"neurological\" \n",
    ", \"Other specified and unspecified gastrointestinal disorders\": \"Digestive\" \n",
    ", \"Other specified and unspecified lower respiratory disease\": \"Respiratory\" \n",
    ", \"Other specified and unspecified skin disorders\": \"Skin\" \n",
    ", \"Other specified upper respiratory infections\": \"Respiratory\" \n",
    ", \"PASC-General\": \"PASC Diagnosis\" \n",
    ", \"Pressure ulcer of skin\": \"Skin\" \n",
    ", \"Respiratory signs and symptoms\": \"Respiratory\" \n",
    ", \"Sleep wake disorders\": \"neurological\"\n",
    "}"
   ]
  },
  {
   "cell_type": "code",
   "execution_count": null,
   "metadata": {},
   "outputs": [],
   "source": [
    "color_crosswalk = {\n",
    "  \"Abdominal pain and other digestive/abdomen signs and symptoms\": \"brown\" \n",
    ", \"Acute phlebitis; thrombophlebitis and thromboembolism\": \"crimson\" \n",
    ", \"Acute pulmonary embolism\": \"crimson\" \n",
    ", \"Anemia\": \"orange\" \n",
    ", \"Circulatory signs and symptoms\": \"crimson\" \n",
    ", \"Diabetes mellitus with complication\": \"lightgreen\" \n",
    ", \"Fever\": \"lightgrey\" \n",
    ", \"Fluid and electrolyte disorders\": \"lightgreen\" \n",
    ", \"Headache; including migraine\": \"skyblue\" \n",
    ", \"Malaise and fatigue\": \"skyblue\" \n",
    ", \"Malnutrition\": \"lightgreen\" \n",
    ", \"Musculoskeletal pain, not low back pain\": \"pink\" \n",
    ", \"Nervous system signs and symptoms\": \"skyblue\" \n",
    ", \"Neurocognitive disorders\": \"skyblue\" \n",
    ", \"Nonspecific chest pain\": \"crimson\" \n",
    ", \"Other general signs and symptoms\": \"lightgreen\" \n",
    ", \"Other nervous system disorders (neither hereditary nor degenerative)\": \"skyblue\" \n",
    ", \"Other specified and unspecified gastrointestinal disorders\": \"brown\" \n",
    ", \"Other specified and unspecified lower respiratory disease\": \"tan\" \n",
    ", \"Other specified and unspecified skin disorders\": \"thistle\" \n",
    ", \"Other specified upper respiratory infections\": \"tan\" \n",
    ", \"PASC-General\": \"black\" \n",
    ", \"Pressure ulcer of skin\": \"thistle\" \n",
    ", \"Respiratory signs and symptoms\": \"tan\" \n",
    ", \"Sleep wake disorders\": \"skyblue\" \n",
    "}"
   ]
  },
  {
   "cell_type": "code",
   "execution_count": null,
   "metadata": {},
   "outputs": [],
   "source": [
    "# assign an organ system and a color (for visualizations) based on the crosswalks created earlier\n",
    "PASC_definition['system'] = PASC_definition['ccsr_category'].map(system_crosswalk)\n",
    "PASC_definition['color'] = PASC_definition['ccsr_category'].map(color_crosswalk)"
   ]
  },
  {
   "cell_type": "code",
   "execution_count": null,
   "metadata": {},
   "outputs": [],
   "source": [
    "# by inner joining the table with ALL diagnoses with PASC definition reference spreadsheet\n",
    "# we are creating a smaller subset of the diagnosis table containing only the PASC like diagnoses\n",
    "# this step may not be necessary, but will help to optimize the query and its later functions\n",
    "pasc_diagnoses = pd.merge(\n",
    "    diagnosis,\n",
    "    PASC_definition[['i10_code']],\n",
    "    left_on='dx',\n",
    "    right_on='i10_code', \n",
    "    how='inner'\n",
    ")\n",
    "# dropping duplicated column\n",
    "pasc_diagnoses.drop(columns=('i10_code'), inplace=True)\n"
   ]
  },
  {
   "cell_type": "code",
   "execution_count": null,
   "metadata": {},
   "outputs": [],
   "source": [
    "pasc_diff, pasc_date = rp.get_pasc_category(\n",
    "    diagnosis=pasc_diagnoses,\n",
    "    index=index,\n",
    "    PASC_definition_reference=PASC_definition,\n",
    "    category='ccsr_category',\n",
    "    patid_column='syn_pt_id'\n",
    ")"
   ]
  },
  {
   "cell_type": "code",
   "execution_count": null,
   "metadata": {},
   "outputs": [],
   "source": [
    "pasc_subphenotype = rp.get_pasc_subphenotype(\n",
    "    pasc_diff=pasc_diff,\n",
    "    patid_column='syn_pt_id'\n",
    ")"
   ]
  },
  {
   "cell_type": "code",
   "execution_count": null,
   "metadata": {},
   "outputs": [],
   "source": [
    "pasc_yn = pasc_diff.copy()\n",
    "\n",
    "# get a list of all columns (diagnosis categories) avoiding patid column in the first position\n",
    "col_list_ccsr = pasc_yn.columns[1:]\n",
    "\n",
    "# if +1 means it's pasc dx\n",
    "# if -1 means it's existing dx\n",
    "# if 0 means never been diagnosed\n",
    "pasc_yn[col_list_ccsr] = pasc_yn[col_list_ccsr].apply(lambda x: [1 if y > 30 else (-1 if y < -7 else 0) for y in x])"
   ]
  },
  {
   "cell_type": "code",
   "execution_count": null,
   "metadata": {},
   "outputs": [],
   "source": [
    "pasc_pts = rp.get_pasc_pts(\n",
    "    index=index,\n",
    "    pasc_yn=pasc_yn,\n",
    "    pasc_subphenotype=pasc_subphenotype,\n",
    "    patid_column='syn_pt_id'\n",
    ")"
   ]
  },
  {
   "attachments": {},
   "cell_type": "markdown",
   "metadata": {},
   "source": [
    "# demographic clean up"
   ]
  },
  {
   "cell_type": "code",
   "execution_count": null,
   "metadata": {},
   "outputs": [],
   "source": [
    "# calculate age as of today then categorize the age\n",
    "# please note, for CSC queries you may often need to calcualte age at the time of index event unless stated otherwise\n",
    "demographic['age_as_of_today'] = (datetime.date.today() - demographic['birth_date']) / np.timedelta64(1, 'Y')\n",
    "demographic['age_as_of_today_group'] = rp.categorize_age(df=demographic, age_column='age_as_of_today')\n",
    "\n",
    "# clean SEX column\n",
    "demographic = rp.clean_sex(df=demographic, sex_column='sex')\n",
    "\n",
    "# clean RACE and HISPANIC column then categorize patients based on race and ethnicity combined \n",
    "demographic = rp.clean_race(df=demographic, race_column='race')\n",
    "demographic = rp.clean_ethnicity(df=demographic, ethnicity_column='hispanic')\n",
    "demographic['race_ethnicity'] = rp.categorize_race_ethnicity(df=demographic, race_column='race', ethnicity_column='hispanic')\n"
   ]
  },
  {
   "attachments": {},
   "cell_type": "markdown",
   "metadata": {},
   "source": [
    "# analysis"
   ]
  },
  {
   "cell_type": "code",
   "execution_count": null,
   "metadata": {},
   "outputs": [],
   "source": [
    "patid_column = 'syn_pt_id'\n",
    "sex_column = 'sex'"
   ]
  },
  {
   "cell_type": "code",
   "execution_count": null,
   "metadata": {},
   "outputs": [],
   "source": [
    "# initiate the flat file with the index table to ensure every patient will have an index date\n",
    "flat = index[['site', patid_column, 'index_date']].copy()\n",
    "\n",
    "# inner joining to demographic table to collect demographic information\n",
    "flat = flat.merge(\n",
    "    demographic[[patid_column, sex_column, 'race_ethnicity', 'birth_date', 'age_as_of_today', 'age_as_of_today_group']],\n",
    "    on=patid_column,\n",
    "    how='inner'\n",
    ")\n",
    "\n",
    "# calculate and categorize age at the time of index event\n",
    "flat['age_as_of_index'] = (flat['index_date'] - flat['birth_date']) / np.timedelta64(1, 'Y')\n",
    "flat['age_as_of_index_group'] = rp.categorize_age(df=flat, age_column='age_as_of_index')\n",
    "\n",
    "# inner joining to pasc_pts table that contains PASC information for all patients regardless of their status\n",
    "flat = flat.merge(\n",
    "    pasc_pts,\n",
    "    on=[patid_column, 'index_date'],\n",
    "    how='inner'\n",
    ")"
   ]
  },
  {
   "cell_type": "code",
   "execution_count": null,
   "metadata": {},
   "outputs": [],
   "source": [
    "flat.pivot_table(\n",
    "    values=patid_column,\n",
    "    aggfunc='nunique',\n",
    "    index=sex_column,\n",
    "    columns='pasc_yn',\n",
    "    margins=True\n",
    ")"
   ]
  }
 ],
 "metadata": {
  "kernelspec": {
   "display_name": "base",
   "language": "python",
   "name": "python3"
  },
  "language_info": {
   "codemirror_mode": {
    "name": "ipython",
    "version": 3
   },
   "file_extension": ".py",
   "mimetype": "text/x-python",
   "name": "python",
   "nbconvert_exporter": "python",
   "pygments_lexer": "ipython3",
   "version": "3.9.12 (main, Apr  4 2022, 05:22:27) [MSC v.1916 64 bit (AMD64)]"
  },
  "orig_nbformat": 4,
  "vscode": {
   "interpreter": {
    "hash": "ad2bdc8ecc057115af97d19610ffacc2b4e99fae6737bb82f5d7fb13d2f2c186"
   }
  }
 },
 "nbformat": 4,
 "nbformat_minor": 2
}
